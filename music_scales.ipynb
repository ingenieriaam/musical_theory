{
 "cells": [
  {
   "cell_type": "code",
   "execution_count": null,
   "metadata": {},
   "outputs": [],
   "source": [
    "import refguitar as rg\n",
    "# Ejemplo de uso\n",
    "\n",
    "gtr = rg.Guitar()\n",
    "r=gtr.encontrar_nota('Ab',verbose=True)\n",
    "print(r)"
   ]
  },
  {
   "cell_type": "code",
   "execution_count": null,
   "metadata": {},
   "outputs": [],
   "source": [
    "cromatica_b = ['C', 'Db', 'D', 'Eb', 'E', 'F', 'Gb', 'G', 'Ab', 'A', 'Bb', 'B' ]\n",
    "cromatica_s = ['C', 'C#', 'D', 'D#', 'E', 'F', 'F#', 'G', 'G#', 'A', 'A#', 'B' ]\n",
    "res_pass = True\n",
    "for item in cromatica_b+cromatica_s:\n",
    "    r=gtr.encontrar_nota(item,verbose=False)\n",
    "    if not r:\n",
    "        res_pass = False\n",
    "        print(f'No se encuentra la nota {item}')\n",
    "if not res_pass:\n",
    "    print('Prueba fallida')"
   ]
  },
  {
   "cell_type": "code",
   "execution_count": null,
   "metadata": {},
   "outputs": [],
   "source": [
    "gtr.graficar_nota('Bb',verbose=True)"
   ]
  },
  {
   "cell_type": "code",
   "execution_count": null,
   "metadata": {},
   "outputs": [],
   "source": [
    "def gen_prox_dato(form):\n",
    "    idx = 0\n",
    "    while True:\n",
    "        yield form[idx]\n",
    "        idx+=1; idx%=len(form)\n",
    "\n",
    "f = gen_prox_dato(gtr.formula.modo['jonico'])\n",
    "print(next(f))\n",
    "print(next(f))\n"
   ]
  },
  {
   "cell_type": "code",
   "execution_count": null,
   "metadata": {},
   "outputs": [],
   "source": [
    "modo = ['mayor','menor','jonico','dorico','frigio','lidio','mixolidio','eolico','locrio','pentatonica_mayor','pentatonica_menor']\n",
    "gtr.limpiar_mastil_res()\n",
    "for m in modo:\n",
    "    gtr.graficar_escala('C',m,indicacion='intervalo')\n",
    "    gtr.limpiar_mastil_res()\n"
   ]
  },
  {
   "cell_type": "code",
   "execution_count": null,
   "metadata": {},
   "outputs": [],
   "source": [
    "print('C mayor por intervalos:\\n')\n",
    "gtr.graficar_escala('C','mayor',indicacion='intervalo')\n",
    "\n",
    "print('\\n C mayor por notas:\\n')\n",
    "gtr.graficar_escala('C','mayor',indicacion='nota')\n",
    "\n",
    "print('\\n C dorico por intervalos:\\n')\n",
    "gtr.graficar_escala('C','dorico',indicacion='intervalo')"
   ]
  },
  {
   "cell_type": "code",
   "execution_count": 1,
   "metadata": {},
   "outputs": [
    {
     "ename": "NameError",
     "evalue": "name 'CrosshairTool' is not defined",
     "output_type": "error",
     "traceback": [
      "\u001b[0;31m---------------------------------------------------------------------------\u001b[0m",
      "\u001b[0;31mNameError\u001b[0m                                 Traceback (most recent call last)",
      "Cell \u001b[0;32mIn[1], line 2\u001b[0m\n\u001b[1;32m      1\u001b[0m \u001b[38;5;28;01mimport\u001b[39;00m \u001b[38;5;21;01mrefguitar\u001b[39;00m \u001b[38;5;28;01mas\u001b[39;00m \u001b[38;5;21;01mrg\u001b[39;00m\n\u001b[0;32m----> 2\u001b[0m d \u001b[38;5;241m=\u001b[39m \u001b[43mrg\u001b[49m\u001b[38;5;241;43m.\u001b[39;49m\u001b[43mDiapason\u001b[49m\u001b[43m(\u001b[49m\u001b[38;5;124;43m'\u001b[39;49m\u001b[38;5;124;43mC mayor\u001b[39;49m\u001b[38;5;124;43m'\u001b[39;49m\u001b[43m)\u001b[49m\n\u001b[1;32m      3\u001b[0m d\u001b[38;5;241m.\u001b[39mgraficar()\n",
      "File \u001b[0;32m~/Python_concepts/music/musical_theory/refguitar.py:235\u001b[0m, in \u001b[0;36mDiapason.__init__\u001b[0;34m(self, titulo)\u001b[0m\n\u001b[1;32m    233\u001b[0m \u001b[38;5;28msuper\u001b[39m()\u001b[38;5;241m.\u001b[39m\u001b[38;5;21m__init__\u001b[39m()\n\u001b[1;32m    234\u001b[0m \u001b[38;5;28mself\u001b[39m\u001b[38;5;241m.\u001b[39mtitulo \u001b[38;5;241m=\u001b[39m titulo\n\u001b[0;32m--> 235\u001b[0m \u001b[38;5;28mself\u001b[39m\u001b[38;5;241m.\u001b[39mestructura \u001b[38;5;241m=\u001b[39m \u001b[38;5;28;43mself\u001b[39;49m\u001b[38;5;241;43m.\u001b[39;49m\u001b[43m__estructura\u001b[49m\u001b[43m(\u001b[49m\u001b[43m)\u001b[49m\n",
      "File \u001b[0;32m~/Python_concepts/music/musical_theory/refguitar.py:283\u001b[0m, in \u001b[0;36mDiapason.__estructura\u001b[0;34m(self)\u001b[0m\n\u001b[1;32m    280\u001b[0m p\u001b[38;5;241m.\u001b[39mtitle\u001b[38;5;241m.\u001b[39mtext_font_size \u001b[38;5;241m=\u001b[39m \u001b[38;5;124m\"\u001b[39m\u001b[38;5;124m20px\u001b[39m\u001b[38;5;124m\"\u001b[39m\n\u001b[1;32m    282\u001b[0m \u001b[38;5;66;03m# Agregar herramientas específicas al toolbar\u001b[39;00m\n\u001b[0;32m--> 283\u001b[0m p\u001b[38;5;241m.\u001b[39madd_tools(\u001b[43mCrosshairTool\u001b[49m(line_color\u001b[38;5;241m=\u001b[39m\u001b[38;5;124m'\u001b[39m\u001b[38;5;124mred\u001b[39m\u001b[38;5;124m'\u001b[39m, line_width\u001b[38;5;241m=\u001b[39m\u001b[38;5;241m1\u001b[39m))\n\u001b[1;32m    284\u001b[0m p\u001b[38;5;241m.\u001b[39madd_tools(TapTool())\n\u001b[1;32m    286\u001b[0m \u001b[38;5;28;01mreturn\u001b[39;00m p\n",
      "\u001b[0;31mNameError\u001b[0m: name 'CrosshairTool' is not defined"
     ]
    }
   ],
   "source": [
    "import refguitar as rg\n",
    "d = rg.Diapason('C mayor')\n",
    "d.graficar()\n"
   ]
  }
 ],
 "metadata": {
  "kernelspec": {
   "display_name": "Python 3",
   "language": "python",
   "name": "python3"
  },
  "language_info": {
   "codemirror_mode": {
    "name": "ipython",
    "version": 3
   },
   "file_extension": ".py",
   "mimetype": "text/x-python",
   "name": "python",
   "nbconvert_exporter": "python",
   "pygments_lexer": "ipython3",
   "version": "3.11.0"
  }
 },
 "nbformat": 4,
 "nbformat_minor": 2
}
