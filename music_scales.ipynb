{
 "cells": [
  {
   "cell_type": "code",
   "execution_count": 1,
   "metadata": {},
   "outputs": [
    {
     "name": "stdout",
     "output_type": "stream",
     "text": [
      "La nota G se encuentra en la cuerda e en las posiciones [3, 15]\n",
      "La nota G se encuentra en la cuerda B en las posiciones [8, 20]\n",
      "La nota G se encuentra en la cuerda G en las posiciones [0, 12, 24]\n",
      "La nota G se encuentra en la cuerda D en las posiciones [5, 17]\n",
      "La nota G se encuentra en la cuerda A en las posiciones [10, 22]\n",
      "La nota G se encuentra en la cuerda E en las posiciones [3, 15]\n",
      "{'e': [3, 15], 'B': [8, 20], 'G': [0, 12, 24], 'D': [5, 17], 'A': [10, 22], 'E': [3, 15]}\n",
      "e I-----|-----|-----|-----|-----|-----|-----|-----|-----|-----|-----|-----|-----|-----|-----|-----|-----|-----|-----|-----|-----|-----|-----|-----|\n",
      "B I-----|-----|-----|-----|-----|-----|-----|-----|-----|-----|-----|-----|-----|-----|-----|-----|-----|-----|-----|-----|-----|-----|-----|-----|\n",
      "G I-----|-----|-----|-----|-----|-----|-----|-----|-----|-----|-----|-----|-----|-----|-----|-----|-----|-----|-----|-----|-----|-----|-----|-----|\n",
      "D I-----|-----|-----|-----|-----|-----|-----|-----|-----|-----|-----|-----|-----|-----|-----|-----|-----|-----|-----|-----|-----|-----|-----|-----|\n",
      "A I-----|-----|-----|-----|-----|-----|-----|-----|-----|-----|-----|-----|-----|-----|-----|-----|-----|-----|-----|-----|-----|-----|-----|-----|\n",
      "E I-----|-----|-----|-----|-----|-----|-----|-----|-----|-----|-----|-----|-----|-----|-----|-----|-----|-----|-----|-----|-----|-----|-----|-----|\n",
      "r    1           3           5           7           9              I  12                15          17          19          21             I  24 \n"
     ]
    }
   ],
   "source": [
    "import refguitar as rg\n",
    "# Ejemplo de uso\n",
    "\n",
    "rg = rg.Guitar()\n",
    "r=rg.encontrar_nota('G',verbose=True)\n",
    "print(r)\n",
    "for key, value in rg.mastil.items():\n",
    "    print(key, value)\n",
    "\n",
    "#I-----|-----|-----|-----|-----|-----|-----|-----|-----|-----|-----||-----|-----|-----|-----|-----|-----|-----|-----|-----|-----|-----||\n",
    "#   3     9"
   ]
  },
  {
   "cell_type": "code",
   "execution_count": 2,
   "metadata": {},
   "outputs": [
    {
     "name": "stdout",
     "output_type": "stream",
     "text": [
      "La nota C se encuentra en la cuerda e en las posiciones [8, 20]\n",
      "La nota C se encuentra en la cuerda B en las posiciones [1, 13]\n",
      "La nota C se encuentra en la cuerda G en las posiciones [5, 17]\n",
      "La nota C se encuentra en la cuerda D en las posiciones [10, 22]\n",
      "La nota C se encuentra en la cuerda A en las posiciones [3, 15]\n",
      "La nota C se encuentra en la cuerda E en las posiciones [8, 20]\n",
      "e I-----|-----|-----|-----|-----|-----|-----|--X--|-----|-----|-----|-----|-----|-----|-----|-----|-----|-----|-----|--X--|-----|-----|-----|-----|\n",
      "B I--X--|-----|-----|-----|-----|-----|-----|-----|-----|-----|-----|-----|--X--|-----|-----|-----|-----|-----|-----|-----|-----|-----|-----|-----|\n",
      "G I-----|-----|-----|-----|--X--|-----|-----|-----|-----|-----|-----|-----|-----|-----|-----|-----|--X--|-----|-----|-----|-----|-----|-----|-----|\n",
      "D I-----|-----|-----|-----|-----|-----|-----|-----|-----|--X--|-----|-----|-----|-----|-----|-----|-----|-----|-----|-----|-----|--X--|-----|-----|\n",
      "A I-----|-----|--X--|-----|-----|-----|-----|-----|-----|-----|-----|-----|-----|-----|--X--|-----|-----|-----|-----|-----|-----|-----|-----|-----|\n",
      "E I-----|-----|-----|-----|-----|-----|-----|--X--|-----|-----|-----|-----|-----|-----|-----|-----|-----|-----|-----|--X--|-----|-----|-----|-----|\n",
      "r    1           3           5           7           9              I  12                15          17          19          21             I  24 \n"
     ]
    }
   ],
   "source": [
    "rg.graficar_nota_terminal('C',verbose=True)"
   ]
  },
  {
   "cell_type": "code",
   "execution_count": 3,
   "metadata": {},
   "outputs": [
    {
     "name": "stdout",
     "output_type": "stream",
     "text": [
      "t\n",
      "t\n",
      "st\n",
      "t\n"
     ]
    }
   ],
   "source": [
    "def gen_prox_dato(form):\n",
    "    idx = 0\n",
    "    while True:\n",
    "        yield form[idx]\n",
    "        idx+=1; idx%=len(form)\n",
    "\n",
    "f = gen_prox_dato(rg.formula.modo['jonico'])\n",
    "print(next(f))\n",
    "print(next(f))\n",
    "print(next(f))\n",
    "print(next(f))\n"
   ]
  },
  {
   "cell_type": "code",
   "execution_count": 4,
   "metadata": {},
   "outputs": [
    {
     "name": "stdout",
     "output_type": "stream",
     "text": [
      "La nota C se encuentra en la cuerda e en las posiciones [8, 20]\n",
      "La nota C se encuentra en la cuerda B en las posiciones [1, 13]\n",
      "La nota C se encuentra en la cuerda G en las posiciones [5, 17]\n",
      "La nota C se encuentra en la cuerda D en las posiciones [10, 22]\n",
      "La nota C se encuentra en la cuerda A en las posiciones [3, 15]\n",
      "La nota C se encuentra en la cuerda E en las posiciones [8, 20]\n",
      "e I-----|-----|-----|-----|-----|-----|-----|--T--|-----|-----|-----|-----|-----|-----|-----|-----|-----|-----|-----|--T--|-----|-----|-----|-----|\n",
      "B I--T--|-----|-----|-----|-----|-----|-----|-----|-----|-----|-----|-----|--T--|-----|-----|-----|-----|-----|-----|-----|-----|-----|-----|-----|\n",
      "G I-----|-----|-----|-----|--T--|-----|-----|-----|-----|-----|-----|-----|-----|-----|-----|-----|--T--|-----|-----|-----|-----|-----|-----|-----|\n",
      "D I-----|-----|-----|-----|-----|-----|-----|-----|-----|--T--|-----|-----|-----|-----|-----|-----|-----|-----|-----|-----|-----|--T--|-----|-----|\n",
      "A I-----|-----|--T--|-----|-----|-----|-----|-----|-----|-----|-----|-----|-----|-----|--T--|-----|-----|-----|-----|-----|-----|-----|-----|-----|\n",
      "E I-----|-----|-----|-----|-----|-----|-----|--T--|-----|-----|-----|-----|-----|-----|-----|-----|-----|-----|-----|--T--|-----|-----|-----|-----|\n",
      "r    1           3           5           7           9              I  12                15          17          19          21             I  24 \n"
     ]
    },
    {
     "ename": "TypeError",
     "evalue": "unhashable type: 'list'",
     "output_type": "error",
     "traceback": [
      "\u001b[0;31m---------------------------------------------------------------------------\u001b[0m",
      "\u001b[0;31mTypeError\u001b[0m                                 Traceback (most recent call last)",
      "Cell \u001b[0;32mIn[4], line 1\u001b[0m\n\u001b[0;32m----> 1\u001b[0m \u001b[43mrg\u001b[49m\u001b[38;5;241;43m.\u001b[39;49m\u001b[43mgraficar_escala\u001b[49m\u001b[43m(\u001b[49m\u001b[38;5;124;43m'\u001b[39;49m\u001b[38;5;124;43mC\u001b[39;49m\u001b[38;5;124;43m'\u001b[39;49m\u001b[43m,\u001b[49m\u001b[43mrg\u001b[49m\u001b[38;5;241;43m.\u001b[39;49m\u001b[43mformula\u001b[49m\u001b[38;5;241;43m.\u001b[39;49m\u001b[43mmodo\u001b[49m\u001b[43m[\u001b[49m\u001b[38;5;124;43m'\u001b[39;49m\u001b[38;5;124;43mjonico\u001b[39;49m\u001b[38;5;124;43m'\u001b[39;49m\u001b[43m]\u001b[49m\u001b[43m,\u001b[49m\u001b[43mverbose\u001b[49m\u001b[38;5;241;43m=\u001b[39;49m\u001b[38;5;28;43;01mTrue\u001b[39;49;00m\u001b[43m)\u001b[49m\n",
      "File \u001b[0;32m~/Python_concepts/music/musical_theory/refguitar.py:79\u001b[0m, in \u001b[0;36mGuitar.graficar_escala\u001b[0;34m(self, tonica, tipo, verbose)\u001b[0m\n\u001b[1;32m     71\u001b[0m \u001b[38;5;250m\u001b[39m\u001b[38;5;124;03m\"\"\"_summary_\u001b[39;00m\n\u001b[1;32m     72\u001b[0m \n\u001b[1;32m     73\u001b[0m \u001b[38;5;124;03mArgs:\u001b[39;00m\n\u001b[0;32m   (...)\u001b[0m\n\u001b[1;32m     76\u001b[0m \u001b[38;5;124;03m    verbose (bool, optional): verbose. Defaults to False.\u001b[39;00m\n\u001b[1;32m     77\u001b[0m \u001b[38;5;124;03m\"\"\"\u001b[39;00m\n\u001b[1;32m     78\u001b[0m \u001b[38;5;28mself\u001b[39m\u001b[38;5;241m.\u001b[39mgraficar_nota_terminal(tonica,caracter\u001b[38;5;241m=\u001b[39m\u001b[38;5;124m'\u001b[39m\u001b[38;5;124mT\u001b[39m\u001b[38;5;124m'\u001b[39m,verbose\u001b[38;5;241m=\u001b[39mverbose)\n\u001b[0;32m---> 79\u001b[0m inte_gen \u001b[38;5;241m=\u001b[39m \u001b[38;5;28mself\u001b[39m\u001b[38;5;241m.\u001b[39mgen_prox_dato(\u001b[38;5;28;43mself\u001b[39;49m\u001b[38;5;241;43m.\u001b[39;49m\u001b[43mintervalo\u001b[49m\u001b[38;5;241;43m.\u001b[39;49m\u001b[43mmodo\u001b[49m\u001b[43m[\u001b[49m\u001b[43mtipo\u001b[49m\u001b[43m]\u001b[49m)\n\u001b[1;32m     80\u001b[0m note_gen \u001b[38;5;241m=\u001b[39m \u001b[38;5;28mself\u001b[39m\u001b[38;5;241m.\u001b[39mgen_prox_nota(tonica)\n\u001b[1;32m     81\u001b[0m \u001b[38;5;28mnext\u001b[39m(inte_gen); \u001b[38;5;28mnext\u001b[39m(note_gen)\n",
      "\u001b[0;31mTypeError\u001b[0m: unhashable type: 'list'"
     ]
    }
   ],
   "source": [
    "rg.graficar_escala('C','jonico',verbose=True)"
   ]
  }
 ],
 "metadata": {
  "kernelspec": {
   "display_name": "Python 3",
   "language": "python",
   "name": "python3"
  },
  "language_info": {
   "codemirror_mode": {
    "name": "ipython",
    "version": 3
   },
   "file_extension": ".py",
   "mimetype": "text/x-python",
   "name": "python",
   "nbconvert_exporter": "python",
   "pygments_lexer": "ipython3",
   "version": "3.11.0"
  }
 },
 "nbformat": 4,
 "nbformat_minor": 2
}
